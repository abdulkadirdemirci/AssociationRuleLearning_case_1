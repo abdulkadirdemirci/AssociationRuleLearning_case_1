{
  "nbformat": 4,
  "nbformat_minor": 0,
  "metadata": {
    "colab": {
      "provenance": [],
      "toc_visible": true,
      "mount_file_id": "1KwaksEAfVdAQ6hzFofqVDQXH7hbIJlEA",
      "authorship_tag": "ABX9TyMQXSjxBwmn2zdUIT5A3huU",
      "include_colab_link": true
    },
    "kernelspec": {
      "name": "python3",
      "display_name": "Python 3"
    },
    "language_info": {
      "name": "python"
    }
  },
  "cells": [
    {
      "cell_type": "markdown",
      "metadata": {
        "id": "view-in-github",
        "colab_type": "text"
      },
      "source": [
        "<a href=\"https://colab.research.google.com/github/abdulkadirdemirci/AssociationRuleLearning_case_1/blob/master/arl.ipynb\" target=\"_parent\"><img src=\"https://colab.research.google.com/assets/colab-badge.svg\" alt=\"Open In Colab\"/></a>"
      ]
    },
    {
      "cell_type": "code",
      "execution_count": 1,
      "metadata": {
        "id": "xM9j2viVPdkR"
      },
      "outputs": [],
      "source": [
        "import pandas as pd\n",
        "import numpy as np\n",
        "import mlxtend\n",
        "import openpyxl\n",
        "import datetime\n",
        "from mlxtend.frequent_patterns import apriori,association_rules"
      ]
    },
    {
      "cell_type": "markdown",
      "source": [
        "# ayarlamalar"
      ],
      "metadata": {
        "id": "mNSpspwjPnwh"
      }
    },
    {
      "cell_type": "code",
      "source": [
        "\n",
        "pd.set_option(\"display.expand_frame_repr\",False)\n",
        "pd.set_option(\"display.max_columns\",None)"
      ],
      "metadata": {
        "id": "E8jDNprfPmco"
      },
      "execution_count": 2,
      "outputs": []
    },
    {
      "cell_type": "markdown",
      "source": [
        "# İŞ PROBLEMİ\n",
        "\n",
        "Türkiye’nin en büyük online hizmet platformu olan Armut, hizmet verenler ile hizmet almak isteyenleri buluşturmaktadır.\n",
        "Bilgisayarın veya akıllı telefonunun üzerinden birkaç dokunuşla temizlik, tadilat, nakliyat gibi hizmetlere kolayca\n",
        "ulaşılmasını sağlamaktadır.\n",
        "Hizmet alan kullanıcıları ve bu kullanıcıların almış oldukları servis ve kategorileri içeren veri setini kullanarak\n",
        "Association Rule Learning ile ürün tavsiye sistemi oluşturulmak istenmektedir."
      ],
      "metadata": {
        "id": "IugnUA7WPtAV"
      }
    },
    {
      "cell_type": "markdown",
      "source": [
        "# VERİ SETİ HİKAYESİ\n",
        "\n",
        "Veri seti müşterilerin aldıkları servislerden ve bu servislerin kategorilerinden oluşmaktadır.\n",
        "Alınan her hizmetin tarih ve saat bilgisini içermektedir.\n",
        "* UserId      : muşteri nuamrası\n",
        "\n",
        "* serviceId   : Her kategoriye ait anonimleştirilmiş servislerdir. \n",
        "            (Örnek : Temizlik kategorisi altında koltuk yıkama servisi) \n",
        "            Bir ServiceId farklı kategoriler altında bulanabilir ve farklı kategoriler altında farklı servisleri ifade eder.(Örnek: CategoryId’si 7 ServiceId’si 4 olan hizmet petek temizliği iken CategoryId’si 2 ServiceId’si 4 olan hizmet mobilya montaj)\n",
        "            \n",
        "* categoryId  : Anonimleştirilmiş kategorilerdir. (Örnek : Temizlik, nakliyat, tadilat kategorisi) \n",
        "\n",
        "* createdate  :Hizmetin satın alındığı tarih"
      ],
      "metadata": {
        "id": "u2UQw4qoPzHf"
      }
    },
    {
      "cell_type": "markdown",
      "source": [
        "#################################################\n",
        "# GÖREV 1 ADIM 1\n",
        "* todo: armut_data.csv dosyasını okutunuz.\n",
        "\n",
        "#################################################"
      ],
      "metadata": {
        "id": "CZ6M7O4WQP3c"
      }
    },
    {
      "cell_type": "code",
      "source": [
        "df_ = pd.read_csv(\"/content/drive/MyDrive/veriler/armut_data.csv\")\n",
        "df = df_.copy()\n"
      ],
      "metadata": {
        "id": "_9nBx98aQV6L"
      },
      "execution_count": 3,
      "outputs": []
    },
    {
      "cell_type": "code",
      "source": [
        "df.head()\n"
      ],
      "metadata": {
        "colab": {
          "base_uri": "https://localhost:8080/",
          "height": 206
        },
        "id": "8dqeQwd0Q95w",
        "outputId": "940f0d8d-3cc8-4ae3-e438-9517db8f0403"
      },
      "execution_count": 4,
      "outputs": [
        {
          "output_type": "execute_result",
          "data": {
            "text/plain": [
              "   UserId  ServiceId  CategoryId           CreateDate\n",
              "0   25446          4           5  2017-08-06 16:11:00\n",
              "1   22948         48           5  2017-08-06 16:12:00\n",
              "2   10618          0           8  2017-08-06 16:13:00\n",
              "3    7256          9           4  2017-08-06 16:14:00\n",
              "4   25446         48           5  2017-08-06 16:16:00"
            ],
            "text/html": [
              "\n",
              "  <div id=\"df-89b2e8aa-c9f4-4b34-a951-476d16ad87ea\">\n",
              "    <div class=\"colab-df-container\">\n",
              "      <div>\n",
              "<style scoped>\n",
              "    .dataframe tbody tr th:only-of-type {\n",
              "        vertical-align: middle;\n",
              "    }\n",
              "\n",
              "    .dataframe tbody tr th {\n",
              "        vertical-align: top;\n",
              "    }\n",
              "\n",
              "    .dataframe thead th {\n",
              "        text-align: right;\n",
              "    }\n",
              "</style>\n",
              "<table border=\"1\" class=\"dataframe\">\n",
              "  <thead>\n",
              "    <tr style=\"text-align: right;\">\n",
              "      <th></th>\n",
              "      <th>UserId</th>\n",
              "      <th>ServiceId</th>\n",
              "      <th>CategoryId</th>\n",
              "      <th>CreateDate</th>\n",
              "    </tr>\n",
              "  </thead>\n",
              "  <tbody>\n",
              "    <tr>\n",
              "      <th>0</th>\n",
              "      <td>25446</td>\n",
              "      <td>4</td>\n",
              "      <td>5</td>\n",
              "      <td>2017-08-06 16:11:00</td>\n",
              "    </tr>\n",
              "    <tr>\n",
              "      <th>1</th>\n",
              "      <td>22948</td>\n",
              "      <td>48</td>\n",
              "      <td>5</td>\n",
              "      <td>2017-08-06 16:12:00</td>\n",
              "    </tr>\n",
              "    <tr>\n",
              "      <th>2</th>\n",
              "      <td>10618</td>\n",
              "      <td>0</td>\n",
              "      <td>8</td>\n",
              "      <td>2017-08-06 16:13:00</td>\n",
              "    </tr>\n",
              "    <tr>\n",
              "      <th>3</th>\n",
              "      <td>7256</td>\n",
              "      <td>9</td>\n",
              "      <td>4</td>\n",
              "      <td>2017-08-06 16:14:00</td>\n",
              "    </tr>\n",
              "    <tr>\n",
              "      <th>4</th>\n",
              "      <td>25446</td>\n",
              "      <td>48</td>\n",
              "      <td>5</td>\n",
              "      <td>2017-08-06 16:16:00</td>\n",
              "    </tr>\n",
              "  </tbody>\n",
              "</table>\n",
              "</div>\n",
              "      <button class=\"colab-df-convert\" onclick=\"convertToInteractive('df-89b2e8aa-c9f4-4b34-a951-476d16ad87ea')\"\n",
              "              title=\"Convert this dataframe to an interactive table.\"\n",
              "              style=\"display:none;\">\n",
              "        \n",
              "  <svg xmlns=\"http://www.w3.org/2000/svg\" height=\"24px\"viewBox=\"0 0 24 24\"\n",
              "       width=\"24px\">\n",
              "    <path d=\"M0 0h24v24H0V0z\" fill=\"none\"/>\n",
              "    <path d=\"M18.56 5.44l.94 2.06.94-2.06 2.06-.94-2.06-.94-.94-2.06-.94 2.06-2.06.94zm-11 1L8.5 8.5l.94-2.06 2.06-.94-2.06-.94L8.5 2.5l-.94 2.06-2.06.94zm10 10l.94 2.06.94-2.06 2.06-.94-2.06-.94-.94-2.06-.94 2.06-2.06.94z\"/><path d=\"M17.41 7.96l-1.37-1.37c-.4-.4-.92-.59-1.43-.59-.52 0-1.04.2-1.43.59L10.3 9.45l-7.72 7.72c-.78.78-.78 2.05 0 2.83L4 21.41c.39.39.9.59 1.41.59.51 0 1.02-.2 1.41-.59l7.78-7.78 2.81-2.81c.8-.78.8-2.07 0-2.86zM5.41 20L4 18.59l7.72-7.72 1.47 1.35L5.41 20z\"/>\n",
              "  </svg>\n",
              "      </button>\n",
              "      \n",
              "  <style>\n",
              "    .colab-df-container {\n",
              "      display:flex;\n",
              "      flex-wrap:wrap;\n",
              "      gap: 12px;\n",
              "    }\n",
              "\n",
              "    .colab-df-convert {\n",
              "      background-color: #E8F0FE;\n",
              "      border: none;\n",
              "      border-radius: 50%;\n",
              "      cursor: pointer;\n",
              "      display: none;\n",
              "      fill: #1967D2;\n",
              "      height: 32px;\n",
              "      padding: 0 0 0 0;\n",
              "      width: 32px;\n",
              "    }\n",
              "\n",
              "    .colab-df-convert:hover {\n",
              "      background-color: #E2EBFA;\n",
              "      box-shadow: 0px 1px 2px rgba(60, 64, 67, 0.3), 0px 1px 3px 1px rgba(60, 64, 67, 0.15);\n",
              "      fill: #174EA6;\n",
              "    }\n",
              "\n",
              "    [theme=dark] .colab-df-convert {\n",
              "      background-color: #3B4455;\n",
              "      fill: #D2E3FC;\n",
              "    }\n",
              "\n",
              "    [theme=dark] .colab-df-convert:hover {\n",
              "      background-color: #434B5C;\n",
              "      box-shadow: 0px 1px 3px 1px rgba(0, 0, 0, 0.15);\n",
              "      filter: drop-shadow(0px 1px 2px rgba(0, 0, 0, 0.3));\n",
              "      fill: #FFFFFF;\n",
              "    }\n",
              "  </style>\n",
              "\n",
              "      <script>\n",
              "        const buttonEl =\n",
              "          document.querySelector('#df-89b2e8aa-c9f4-4b34-a951-476d16ad87ea button.colab-df-convert');\n",
              "        buttonEl.style.display =\n",
              "          google.colab.kernel.accessAllowed ? 'block' : 'none';\n",
              "\n",
              "        async function convertToInteractive(key) {\n",
              "          const element = document.querySelector('#df-89b2e8aa-c9f4-4b34-a951-476d16ad87ea');\n",
              "          const dataTable =\n",
              "            await google.colab.kernel.invokeFunction('convertToInteractive',\n",
              "                                                     [key], {});\n",
              "          if (!dataTable) return;\n",
              "\n",
              "          const docLinkHtml = 'Like what you see? Visit the ' +\n",
              "            '<a target=\"_blank\" href=https://colab.research.google.com/notebooks/data_table.ipynb>data table notebook</a>'\n",
              "            + ' to learn more about interactive tables.';\n",
              "          element.innerHTML = '';\n",
              "          dataTable['output_type'] = 'display_data';\n",
              "          await google.colab.output.renderOutput(dataTable, element);\n",
              "          const docLink = document.createElement('div');\n",
              "          docLink.innerHTML = docLinkHtml;\n",
              "          element.appendChild(docLink);\n",
              "        }\n",
              "      </script>\n",
              "    </div>\n",
              "  </div>\n",
              "  "
            ]
          },
          "metadata": {},
          "execution_count": 4
        }
      ]
    },
    {
      "cell_type": "code",
      "source": [
        "df.info()\n"
      ],
      "metadata": {
        "colab": {
          "base_uri": "https://localhost:8080/"
        },
        "id": "GX0AITyiRAh4",
        "outputId": "a1b17376-3d40-44b0-c9b7-13e38e0ab5da"
      },
      "execution_count": 5,
      "outputs": [
        {
          "output_type": "stream",
          "name": "stdout",
          "text": [
            "<class 'pandas.core.frame.DataFrame'>\n",
            "RangeIndex: 162523 entries, 0 to 162522\n",
            "Data columns (total 4 columns):\n",
            " #   Column      Non-Null Count   Dtype \n",
            "---  ------      --------------   ----- \n",
            " 0   UserId      162523 non-null  int64 \n",
            " 1   ServiceId   162523 non-null  int64 \n",
            " 2   CategoryId  162523 non-null  int64 \n",
            " 3   CreateDate  162523 non-null  object\n",
            "dtypes: int64(3), object(1)\n",
            "memory usage: 5.0+ MB\n"
          ]
        }
      ]
    },
    {
      "cell_type": "code",
      "source": [
        "df[\"CreateDate\"] = pd.to_datetime(df[\"CreateDate\"])\n"
      ],
      "metadata": {
        "id": "9LtzsyQ-RC9p"
      },
      "execution_count": 6,
      "outputs": []
    },
    {
      "cell_type": "code",
      "source": [
        "df.shape\n"
      ],
      "metadata": {
        "colab": {
          "base_uri": "https://localhost:8080/"
        },
        "id": "kx0KNhOrRE7V",
        "outputId": "f0c55854-64f5-4ddc-8a5d-b662b520fc69"
      },
      "execution_count": 7,
      "outputs": [
        {
          "output_type": "execute_result",
          "data": {
            "text/plain": [
              "(162523, 4)"
            ]
          },
          "metadata": {},
          "execution_count": 7
        }
      ]
    },
    {
      "cell_type": "code",
      "source": [
        "df.nunique()\n"
      ],
      "metadata": {
        "colab": {
          "base_uri": "https://localhost:8080/"
        },
        "id": "GalYUiIiRGXi",
        "outputId": "42523c46-d7c8-4d3e-c690-71c93ce81acc"
      },
      "execution_count": 8,
      "outputs": [
        {
          "output_type": "execute_result",
          "data": {
            "text/plain": [
              "UserId         24826\n",
              "ServiceId         50\n",
              "CategoryId        12\n",
              "CreateDate    117510\n",
              "dtype: int64"
            ]
          },
          "metadata": {},
          "execution_count": 8
        }
      ]
    },
    {
      "cell_type": "code",
      "source": [
        "df.isnull().sum()"
      ],
      "metadata": {
        "colab": {
          "base_uri": "https://localhost:8080/"
        },
        "id": "VQ6dW2SKRIZN",
        "outputId": "55d82ec7-7822-445f-cfbc-99678aa40870"
      },
      "execution_count": 9,
      "outputs": [
        {
          "output_type": "execute_result",
          "data": {
            "text/plain": [
              "UserId        0\n",
              "ServiceId     0\n",
              "CategoryId    0\n",
              "CreateDate    0\n",
              "dtype: int64"
            ]
          },
          "metadata": {},
          "execution_count": 9
        }
      ]
    },
    {
      "cell_type": "markdown",
      "source": [
        "#################################################\n",
        "# GÖREV 1 ADIM 2\n",
        "* todo: ServisID her bir CategoryID özelinde farklı\n",
        " bir hizmeti temsil etmektedir.\n",
        " ServiceID ve CategoryID’yi \"_\" ile birleştirerek bu hizmetleri\n",
        " temsil edecek yeni bir değişken oluşturunuz.\n",
        " \n",
        "#################################################"
      ],
      "metadata": {
        "id": "LG-uERQEQPzS"
      }
    },
    {
      "cell_type": "code",
      "source": [
        "df[\"stockcode\"] = df.apply(lambda row: \"%s_%s\" % (row[\"ServiceId\"],row[\"CategoryId\"]),axis=1)\n"
      ],
      "metadata": {
        "id": "h7d1lKW2RT3y"
      },
      "execution_count": 10,
      "outputs": []
    },
    {
      "cell_type": "code",
      "source": [
        "df.head()\n"
      ],
      "metadata": {
        "colab": {
          "base_uri": "https://localhost:8080/",
          "height": 206
        },
        "id": "UvcHDRIQRVK6",
        "outputId": "6a927f10-e13a-4e30-bad6-837c623346d9"
      },
      "execution_count": 11,
      "outputs": [
        {
          "output_type": "execute_result",
          "data": {
            "text/plain": [
              "   UserId  ServiceId  CategoryId          CreateDate stockcode\n",
              "0   25446          4           5 2017-08-06 16:11:00       4_5\n",
              "1   22948         48           5 2017-08-06 16:12:00      48_5\n",
              "2   10618          0           8 2017-08-06 16:13:00       0_8\n",
              "3    7256          9           4 2017-08-06 16:14:00       9_4\n",
              "4   25446         48           5 2017-08-06 16:16:00      48_5"
            ],
            "text/html": [
              "\n",
              "  <div id=\"df-68343db8-d969-4fc3-a1bf-d23ffff3fe9e\">\n",
              "    <div class=\"colab-df-container\">\n",
              "      <div>\n",
              "<style scoped>\n",
              "    .dataframe tbody tr th:only-of-type {\n",
              "        vertical-align: middle;\n",
              "    }\n",
              "\n",
              "    .dataframe tbody tr th {\n",
              "        vertical-align: top;\n",
              "    }\n",
              "\n",
              "    .dataframe thead th {\n",
              "        text-align: right;\n",
              "    }\n",
              "</style>\n",
              "<table border=\"1\" class=\"dataframe\">\n",
              "  <thead>\n",
              "    <tr style=\"text-align: right;\">\n",
              "      <th></th>\n",
              "      <th>UserId</th>\n",
              "      <th>ServiceId</th>\n",
              "      <th>CategoryId</th>\n",
              "      <th>CreateDate</th>\n",
              "      <th>stockcode</th>\n",
              "    </tr>\n",
              "  </thead>\n",
              "  <tbody>\n",
              "    <tr>\n",
              "      <th>0</th>\n",
              "      <td>25446</td>\n",
              "      <td>4</td>\n",
              "      <td>5</td>\n",
              "      <td>2017-08-06 16:11:00</td>\n",
              "      <td>4_5</td>\n",
              "    </tr>\n",
              "    <tr>\n",
              "      <th>1</th>\n",
              "      <td>22948</td>\n",
              "      <td>48</td>\n",
              "      <td>5</td>\n",
              "      <td>2017-08-06 16:12:00</td>\n",
              "      <td>48_5</td>\n",
              "    </tr>\n",
              "    <tr>\n",
              "      <th>2</th>\n",
              "      <td>10618</td>\n",
              "      <td>0</td>\n",
              "      <td>8</td>\n",
              "      <td>2017-08-06 16:13:00</td>\n",
              "      <td>0_8</td>\n",
              "    </tr>\n",
              "    <tr>\n",
              "      <th>3</th>\n",
              "      <td>7256</td>\n",
              "      <td>9</td>\n",
              "      <td>4</td>\n",
              "      <td>2017-08-06 16:14:00</td>\n",
              "      <td>9_4</td>\n",
              "    </tr>\n",
              "    <tr>\n",
              "      <th>4</th>\n",
              "      <td>25446</td>\n",
              "      <td>48</td>\n",
              "      <td>5</td>\n",
              "      <td>2017-08-06 16:16:00</td>\n",
              "      <td>48_5</td>\n",
              "    </tr>\n",
              "  </tbody>\n",
              "</table>\n",
              "</div>\n",
              "      <button class=\"colab-df-convert\" onclick=\"convertToInteractive('df-68343db8-d969-4fc3-a1bf-d23ffff3fe9e')\"\n",
              "              title=\"Convert this dataframe to an interactive table.\"\n",
              "              style=\"display:none;\">\n",
              "        \n",
              "  <svg xmlns=\"http://www.w3.org/2000/svg\" height=\"24px\"viewBox=\"0 0 24 24\"\n",
              "       width=\"24px\">\n",
              "    <path d=\"M0 0h24v24H0V0z\" fill=\"none\"/>\n",
              "    <path d=\"M18.56 5.44l.94 2.06.94-2.06 2.06-.94-2.06-.94-.94-2.06-.94 2.06-2.06.94zm-11 1L8.5 8.5l.94-2.06 2.06-.94-2.06-.94L8.5 2.5l-.94 2.06-2.06.94zm10 10l.94 2.06.94-2.06 2.06-.94-2.06-.94-.94-2.06-.94 2.06-2.06.94z\"/><path d=\"M17.41 7.96l-1.37-1.37c-.4-.4-.92-.59-1.43-.59-.52 0-1.04.2-1.43.59L10.3 9.45l-7.72 7.72c-.78.78-.78 2.05 0 2.83L4 21.41c.39.39.9.59 1.41.59.51 0 1.02-.2 1.41-.59l7.78-7.78 2.81-2.81c.8-.78.8-2.07 0-2.86zM5.41 20L4 18.59l7.72-7.72 1.47 1.35L5.41 20z\"/>\n",
              "  </svg>\n",
              "      </button>\n",
              "      \n",
              "  <style>\n",
              "    .colab-df-container {\n",
              "      display:flex;\n",
              "      flex-wrap:wrap;\n",
              "      gap: 12px;\n",
              "    }\n",
              "\n",
              "    .colab-df-convert {\n",
              "      background-color: #E8F0FE;\n",
              "      border: none;\n",
              "      border-radius: 50%;\n",
              "      cursor: pointer;\n",
              "      display: none;\n",
              "      fill: #1967D2;\n",
              "      height: 32px;\n",
              "      padding: 0 0 0 0;\n",
              "      width: 32px;\n",
              "    }\n",
              "\n",
              "    .colab-df-convert:hover {\n",
              "      background-color: #E2EBFA;\n",
              "      box-shadow: 0px 1px 2px rgba(60, 64, 67, 0.3), 0px 1px 3px 1px rgba(60, 64, 67, 0.15);\n",
              "      fill: #174EA6;\n",
              "    }\n",
              "\n",
              "    [theme=dark] .colab-df-convert {\n",
              "      background-color: #3B4455;\n",
              "      fill: #D2E3FC;\n",
              "    }\n",
              "\n",
              "    [theme=dark] .colab-df-convert:hover {\n",
              "      background-color: #434B5C;\n",
              "      box-shadow: 0px 1px 3px 1px rgba(0, 0, 0, 0.15);\n",
              "      filter: drop-shadow(0px 1px 2px rgba(0, 0, 0, 0.3));\n",
              "      fill: #FFFFFF;\n",
              "    }\n",
              "  </style>\n",
              "\n",
              "      <script>\n",
              "        const buttonEl =\n",
              "          document.querySelector('#df-68343db8-d969-4fc3-a1bf-d23ffff3fe9e button.colab-df-convert');\n",
              "        buttonEl.style.display =\n",
              "          google.colab.kernel.accessAllowed ? 'block' : 'none';\n",
              "\n",
              "        async function convertToInteractive(key) {\n",
              "          const element = document.querySelector('#df-68343db8-d969-4fc3-a1bf-d23ffff3fe9e');\n",
              "          const dataTable =\n",
              "            await google.colab.kernel.invokeFunction('convertToInteractive',\n",
              "                                                     [key], {});\n",
              "          if (!dataTable) return;\n",
              "\n",
              "          const docLinkHtml = 'Like what you see? Visit the ' +\n",
              "            '<a target=\"_blank\" href=https://colab.research.google.com/notebooks/data_table.ipynb>data table notebook</a>'\n",
              "            + ' to learn more about interactive tables.';\n",
              "          element.innerHTML = '';\n",
              "          dataTable['output_type'] = 'display_data';\n",
              "          await google.colab.output.renderOutput(dataTable, element);\n",
              "          const docLink = document.createElement('div');\n",
              "          docLink.innerHTML = docLinkHtml;\n",
              "          element.appendChild(docLink);\n",
              "        }\n",
              "      </script>\n",
              "    </div>\n",
              "  </div>\n",
              "  "
            ]
          },
          "metadata": {},
          "execution_count": 11
        }
      ]
    },
    {
      "cell_type": "code",
      "source": [
        "df.nunique()"
      ],
      "metadata": {
        "colab": {
          "base_uri": "https://localhost:8080/"
        },
        "id": "YUgdjXqpRXKq",
        "outputId": "a5031cc2-2b66-4563-8206-d3f588493980"
      },
      "execution_count": 12,
      "outputs": [
        {
          "output_type": "execute_result",
          "data": {
            "text/plain": [
              "UserId         24826\n",
              "ServiceId         50\n",
              "CategoryId        12\n",
              "CreateDate    117510\n",
              "stockcode         50\n",
              "dtype: int64"
            ]
          },
          "metadata": {},
          "execution_count": 12
        }
      ]
    },
    {
      "cell_type": "markdown",
      "source": [
        "#################################################\n",
        "# GÖREV 1 ADIM 3\n",
        "* todo: Veri seti hizmetlerin alındığı tarih ve saatten oluşmaktadır,\n",
        " herhangi bir sepet tanımı (fatura vb. ) bulunmamaktadır.\n",
        " Association Rule Learning uygulayabilmek için bir sepet (fatura vb.)\n",
        " tanımı oluşturulması gerekmektedir. Burada sepet tanımı her bir\n",
        " müşterinin aylık aldığı hizmetlerdir.\n",
        " hizmetleri bir sepeti; 2017’in 10.ayında aldığı 9_4, 38_4 hizmetleri\n",
        " başka bir sepeti ifade etmektedir. Sepetleri unique bir ID ile\n",
        " tanımlanması gerekmektedir. Bunun için öncelikle sadece yıl ve ay\n",
        " içeren yeni bir date değişkeni oluşturunuz. UserID ve yeni oluşturduğunuz\n",
        " date değişkenini \"_\" ile birleştirirek ID adında yeni bir değişkene atayınız.\n",
        " \n",
        "#################################################"
      ],
      "metadata": {
        "id": "j6tzloZRQPvv"
      }
    },
    {
      "cell_type": "code",
      "source": [
        "df[\"year\"] = df[\"CreateDate\"].dt.year\n"
      ],
      "metadata": {
        "id": "9Agk0WbQPsKP"
      },
      "execution_count": 13,
      "outputs": []
    },
    {
      "cell_type": "code",
      "source": [
        "df[\"month\"] = df[\"CreateDate\"].dt.month"
      ],
      "metadata": {
        "id": "d7bRb5b1PsC7"
      },
      "execution_count": 14,
      "outputs": []
    },
    {
      "cell_type": "code",
      "source": [
        "df[\"transactions\"] = df.apply(lambda row: \"%s_%s_%s\" % (row[\"UserId\"],row[\"year\"],row[\"month\"]),axis=1)"
      ],
      "metadata": {
        "id": "xgBBgyG1Pr4O"
      },
      "execution_count": 16,
      "outputs": []
    },
    {
      "cell_type": "markdown",
      "source": [
        "#################################################\n",
        "# GÖREV 2 ADIM 1\n",
        "* todo: sepet, hizmet pivot table’i oluşturunuz.\n",
        "\n",
        "#################################################"
      ],
      "metadata": {
        "id": "fxQAaXHDRvQd"
      }
    },
    {
      "cell_type": "code",
      "source": [
        "pivot_df = df.groupby([\"transactions\",\"stockcode\"])[\"stockcode\"].\\\n",
        "    count().\\\n",
        "    unstack().\\\n",
        "    fillna(0).\\\n",
        "    applymap(lambda x: 1 if x > 0 else 0)"
      ],
      "metadata": {
        "id": "cDwxfUNDRsg8"
      },
      "execution_count": 17,
      "outputs": []
    },
    {
      "cell_type": "markdown",
      "source": [
        "#################################################\n",
        "# GÖREV 2 ADIM 2\n",
        "* todo: Birliktelik kurallarını oluşturunuz.\n",
        "\n",
        "apriori' ye uygun hale gelen verisetini kullanarak support degerlerini belirlemek\n",
        "#################################################"
      ],
      "metadata": {
        "id": "nFGxIMIoRzov"
      }
    },
    {
      "cell_type": "code",
      "source": [
        "pivot_df_apriori = apriori(pivot_df,min_support=0.01,use_colnames=True)\n",
        "pivot_df_apriori.head()"
      ],
      "metadata": {
        "colab": {
          "base_uri": "https://localhost:8080/",
          "height": 206
        },
        "id": "3Ljcq6d2R6cy",
        "outputId": "425ec4bb-5690-445b-cb6b-cb095fe05569"
      },
      "execution_count": 18,
      "outputs": [
        {
          "output_type": "execute_result",
          "data": {
            "text/plain": [
              "    support itemsets\n",
              "0  0.019728    (0_8)\n",
              "1  0.026523  (11_11)\n",
              "2  0.029374   (12_7)\n",
              "3  0.056627  (13_11)\n",
              "4  0.023406   (14_7)"
            ],
            "text/html": [
              "\n",
              "  <div id=\"df-aea8923a-e8fc-4aa0-ad21-936353559c6a\">\n",
              "    <div class=\"colab-df-container\">\n",
              "      <div>\n",
              "<style scoped>\n",
              "    .dataframe tbody tr th:only-of-type {\n",
              "        vertical-align: middle;\n",
              "    }\n",
              "\n",
              "    .dataframe tbody tr th {\n",
              "        vertical-align: top;\n",
              "    }\n",
              "\n",
              "    .dataframe thead th {\n",
              "        text-align: right;\n",
              "    }\n",
              "</style>\n",
              "<table border=\"1\" class=\"dataframe\">\n",
              "  <thead>\n",
              "    <tr style=\"text-align: right;\">\n",
              "      <th></th>\n",
              "      <th>support</th>\n",
              "      <th>itemsets</th>\n",
              "    </tr>\n",
              "  </thead>\n",
              "  <tbody>\n",
              "    <tr>\n",
              "      <th>0</th>\n",
              "      <td>0.019728</td>\n",
              "      <td>(0_8)</td>\n",
              "    </tr>\n",
              "    <tr>\n",
              "      <th>1</th>\n",
              "      <td>0.026523</td>\n",
              "      <td>(11_11)</td>\n",
              "    </tr>\n",
              "    <tr>\n",
              "      <th>2</th>\n",
              "      <td>0.029374</td>\n",
              "      <td>(12_7)</td>\n",
              "    </tr>\n",
              "    <tr>\n",
              "      <th>3</th>\n",
              "      <td>0.056627</td>\n",
              "      <td>(13_11)</td>\n",
              "    </tr>\n",
              "    <tr>\n",
              "      <th>4</th>\n",
              "      <td>0.023406</td>\n",
              "      <td>(14_7)</td>\n",
              "    </tr>\n",
              "  </tbody>\n",
              "</table>\n",
              "</div>\n",
              "      <button class=\"colab-df-convert\" onclick=\"convertToInteractive('df-aea8923a-e8fc-4aa0-ad21-936353559c6a')\"\n",
              "              title=\"Convert this dataframe to an interactive table.\"\n",
              "              style=\"display:none;\">\n",
              "        \n",
              "  <svg xmlns=\"http://www.w3.org/2000/svg\" height=\"24px\"viewBox=\"0 0 24 24\"\n",
              "       width=\"24px\">\n",
              "    <path d=\"M0 0h24v24H0V0z\" fill=\"none\"/>\n",
              "    <path d=\"M18.56 5.44l.94 2.06.94-2.06 2.06-.94-2.06-.94-.94-2.06-.94 2.06-2.06.94zm-11 1L8.5 8.5l.94-2.06 2.06-.94-2.06-.94L8.5 2.5l-.94 2.06-2.06.94zm10 10l.94 2.06.94-2.06 2.06-.94-2.06-.94-.94-2.06-.94 2.06-2.06.94z\"/><path d=\"M17.41 7.96l-1.37-1.37c-.4-.4-.92-.59-1.43-.59-.52 0-1.04.2-1.43.59L10.3 9.45l-7.72 7.72c-.78.78-.78 2.05 0 2.83L4 21.41c.39.39.9.59 1.41.59.51 0 1.02-.2 1.41-.59l7.78-7.78 2.81-2.81c.8-.78.8-2.07 0-2.86zM5.41 20L4 18.59l7.72-7.72 1.47 1.35L5.41 20z\"/>\n",
              "  </svg>\n",
              "      </button>\n",
              "      \n",
              "  <style>\n",
              "    .colab-df-container {\n",
              "      display:flex;\n",
              "      flex-wrap:wrap;\n",
              "      gap: 12px;\n",
              "    }\n",
              "\n",
              "    .colab-df-convert {\n",
              "      background-color: #E8F0FE;\n",
              "      border: none;\n",
              "      border-radius: 50%;\n",
              "      cursor: pointer;\n",
              "      display: none;\n",
              "      fill: #1967D2;\n",
              "      height: 32px;\n",
              "      padding: 0 0 0 0;\n",
              "      width: 32px;\n",
              "    }\n",
              "\n",
              "    .colab-df-convert:hover {\n",
              "      background-color: #E2EBFA;\n",
              "      box-shadow: 0px 1px 2px rgba(60, 64, 67, 0.3), 0px 1px 3px 1px rgba(60, 64, 67, 0.15);\n",
              "      fill: #174EA6;\n",
              "    }\n",
              "\n",
              "    [theme=dark] .colab-df-convert {\n",
              "      background-color: #3B4455;\n",
              "      fill: #D2E3FC;\n",
              "    }\n",
              "\n",
              "    [theme=dark] .colab-df-convert:hover {\n",
              "      background-color: #434B5C;\n",
              "      box-shadow: 0px 1px 3px 1px rgba(0, 0, 0, 0.15);\n",
              "      filter: drop-shadow(0px 1px 2px rgba(0, 0, 0, 0.3));\n",
              "      fill: #FFFFFF;\n",
              "    }\n",
              "  </style>\n",
              "\n",
              "      <script>\n",
              "        const buttonEl =\n",
              "          document.querySelector('#df-aea8923a-e8fc-4aa0-ad21-936353559c6a button.colab-df-convert');\n",
              "        buttonEl.style.display =\n",
              "          google.colab.kernel.accessAllowed ? 'block' : 'none';\n",
              "\n",
              "        async function convertToInteractive(key) {\n",
              "          const element = document.querySelector('#df-aea8923a-e8fc-4aa0-ad21-936353559c6a');\n",
              "          const dataTable =\n",
              "            await google.colab.kernel.invokeFunction('convertToInteractive',\n",
              "                                                     [key], {});\n",
              "          if (!dataTable) return;\n",
              "\n",
              "          const docLinkHtml = 'Like what you see? Visit the ' +\n",
              "            '<a target=\"_blank\" href=https://colab.research.google.com/notebooks/data_table.ipynb>data table notebook</a>'\n",
              "            + ' to learn more about interactive tables.';\n",
              "          element.innerHTML = '';\n",
              "          dataTable['output_type'] = 'display_data';\n",
              "          await google.colab.output.renderOutput(dataTable, element);\n",
              "          const docLink = document.createElement('div');\n",
              "          docLink.innerHTML = docLinkHtml;\n",
              "          element.appendChild(docLink);\n",
              "        }\n",
              "      </script>\n",
              "    </div>\n",
              "  </div>\n",
              "  "
            ]
          },
          "metadata": {},
          "execution_count": 18
        }
      ]
    },
    {
      "cell_type": "code",
      "source": [
        "rules = association_rules(pivot_df_apriori,metric=\"support\",min_threshold=0.01).sort_values(\"lift\",ascending=False)\n",
        "rules.head()"
      ],
      "metadata": {
        "colab": {
          "base_uri": "https://localhost:8080/",
          "height": 206
        },
        "id": "REsKxriaSCuD",
        "outputId": "707be17c-5a00-43c7-e626-25f14852faf6"
      },
      "execution_count": 19,
      "outputs": [
        {
          "output_type": "execute_result",
          "data": {
            "text/plain": [
              "   antecedents consequents  antecedent support  consequent support   support  confidence      lift  leverage  conviction\n",
              "10      (22_0)      (25_0)            0.047515            0.042895  0.011120    0.234043  5.456141  0.009082    1.249553\n",
              "11      (25_0)      (22_0)            0.042895            0.047515  0.011120    0.259247  5.456141  0.009082    1.285834\n",
              "18      (38_4)       (9_4)            0.066568            0.041393  0.010067    0.151234  3.653623  0.007312    1.129413\n",
              "19       (9_4)      (38_4)            0.041393            0.066568  0.010067    0.243216  3.653623  0.007312    1.233418\n",
              "4       (15_1)      (33_4)            0.120963            0.027310  0.011233    0.092861  3.400299  0.007929    1.072262"
            ],
            "text/html": [
              "\n",
              "  <div id=\"df-9584e0f8-bd41-47b9-bce0-a344f72e5171\">\n",
              "    <div class=\"colab-df-container\">\n",
              "      <div>\n",
              "<style scoped>\n",
              "    .dataframe tbody tr th:only-of-type {\n",
              "        vertical-align: middle;\n",
              "    }\n",
              "\n",
              "    .dataframe tbody tr th {\n",
              "        vertical-align: top;\n",
              "    }\n",
              "\n",
              "    .dataframe thead th {\n",
              "        text-align: right;\n",
              "    }\n",
              "</style>\n",
              "<table border=\"1\" class=\"dataframe\">\n",
              "  <thead>\n",
              "    <tr style=\"text-align: right;\">\n",
              "      <th></th>\n",
              "      <th>antecedents</th>\n",
              "      <th>consequents</th>\n",
              "      <th>antecedent support</th>\n",
              "      <th>consequent support</th>\n",
              "      <th>support</th>\n",
              "      <th>confidence</th>\n",
              "      <th>lift</th>\n",
              "      <th>leverage</th>\n",
              "      <th>conviction</th>\n",
              "    </tr>\n",
              "  </thead>\n",
              "  <tbody>\n",
              "    <tr>\n",
              "      <th>10</th>\n",
              "      <td>(22_0)</td>\n",
              "      <td>(25_0)</td>\n",
              "      <td>0.047515</td>\n",
              "      <td>0.042895</td>\n",
              "      <td>0.011120</td>\n",
              "      <td>0.234043</td>\n",
              "      <td>5.456141</td>\n",
              "      <td>0.009082</td>\n",
              "      <td>1.249553</td>\n",
              "    </tr>\n",
              "    <tr>\n",
              "      <th>11</th>\n",
              "      <td>(25_0)</td>\n",
              "      <td>(22_0)</td>\n",
              "      <td>0.042895</td>\n",
              "      <td>0.047515</td>\n",
              "      <td>0.011120</td>\n",
              "      <td>0.259247</td>\n",
              "      <td>5.456141</td>\n",
              "      <td>0.009082</td>\n",
              "      <td>1.285834</td>\n",
              "    </tr>\n",
              "    <tr>\n",
              "      <th>18</th>\n",
              "      <td>(38_4)</td>\n",
              "      <td>(9_4)</td>\n",
              "      <td>0.066568</td>\n",
              "      <td>0.041393</td>\n",
              "      <td>0.010067</td>\n",
              "      <td>0.151234</td>\n",
              "      <td>3.653623</td>\n",
              "      <td>0.007312</td>\n",
              "      <td>1.129413</td>\n",
              "    </tr>\n",
              "    <tr>\n",
              "      <th>19</th>\n",
              "      <td>(9_4)</td>\n",
              "      <td>(38_4)</td>\n",
              "      <td>0.041393</td>\n",
              "      <td>0.066568</td>\n",
              "      <td>0.010067</td>\n",
              "      <td>0.243216</td>\n",
              "      <td>3.653623</td>\n",
              "      <td>0.007312</td>\n",
              "      <td>1.233418</td>\n",
              "    </tr>\n",
              "    <tr>\n",
              "      <th>4</th>\n",
              "      <td>(15_1)</td>\n",
              "      <td>(33_4)</td>\n",
              "      <td>0.120963</td>\n",
              "      <td>0.027310</td>\n",
              "      <td>0.011233</td>\n",
              "      <td>0.092861</td>\n",
              "      <td>3.400299</td>\n",
              "      <td>0.007929</td>\n",
              "      <td>1.072262</td>\n",
              "    </tr>\n",
              "  </tbody>\n",
              "</table>\n",
              "</div>\n",
              "      <button class=\"colab-df-convert\" onclick=\"convertToInteractive('df-9584e0f8-bd41-47b9-bce0-a344f72e5171')\"\n",
              "              title=\"Convert this dataframe to an interactive table.\"\n",
              "              style=\"display:none;\">\n",
              "        \n",
              "  <svg xmlns=\"http://www.w3.org/2000/svg\" height=\"24px\"viewBox=\"0 0 24 24\"\n",
              "       width=\"24px\">\n",
              "    <path d=\"M0 0h24v24H0V0z\" fill=\"none\"/>\n",
              "    <path d=\"M18.56 5.44l.94 2.06.94-2.06 2.06-.94-2.06-.94-.94-2.06-.94 2.06-2.06.94zm-11 1L8.5 8.5l.94-2.06 2.06-.94-2.06-.94L8.5 2.5l-.94 2.06-2.06.94zm10 10l.94 2.06.94-2.06 2.06-.94-2.06-.94-.94-2.06-.94 2.06-2.06.94z\"/><path d=\"M17.41 7.96l-1.37-1.37c-.4-.4-.92-.59-1.43-.59-.52 0-1.04.2-1.43.59L10.3 9.45l-7.72 7.72c-.78.78-.78 2.05 0 2.83L4 21.41c.39.39.9.59 1.41.59.51 0 1.02-.2 1.41-.59l7.78-7.78 2.81-2.81c.8-.78.8-2.07 0-2.86zM5.41 20L4 18.59l7.72-7.72 1.47 1.35L5.41 20z\"/>\n",
              "  </svg>\n",
              "      </button>\n",
              "      \n",
              "  <style>\n",
              "    .colab-df-container {\n",
              "      display:flex;\n",
              "      flex-wrap:wrap;\n",
              "      gap: 12px;\n",
              "    }\n",
              "\n",
              "    .colab-df-convert {\n",
              "      background-color: #E8F0FE;\n",
              "      border: none;\n",
              "      border-radius: 50%;\n",
              "      cursor: pointer;\n",
              "      display: none;\n",
              "      fill: #1967D2;\n",
              "      height: 32px;\n",
              "      padding: 0 0 0 0;\n",
              "      width: 32px;\n",
              "    }\n",
              "\n",
              "    .colab-df-convert:hover {\n",
              "      background-color: #E2EBFA;\n",
              "      box-shadow: 0px 1px 2px rgba(60, 64, 67, 0.3), 0px 1px 3px 1px rgba(60, 64, 67, 0.15);\n",
              "      fill: #174EA6;\n",
              "    }\n",
              "\n",
              "    [theme=dark] .colab-df-convert {\n",
              "      background-color: #3B4455;\n",
              "      fill: #D2E3FC;\n",
              "    }\n",
              "\n",
              "    [theme=dark] .colab-df-convert:hover {\n",
              "      background-color: #434B5C;\n",
              "      box-shadow: 0px 1px 3px 1px rgba(0, 0, 0, 0.15);\n",
              "      filter: drop-shadow(0px 1px 2px rgba(0, 0, 0, 0.3));\n",
              "      fill: #FFFFFF;\n",
              "    }\n",
              "  </style>\n",
              "\n",
              "      <script>\n",
              "        const buttonEl =\n",
              "          document.querySelector('#df-9584e0f8-bd41-47b9-bce0-a344f72e5171 button.colab-df-convert');\n",
              "        buttonEl.style.display =\n",
              "          google.colab.kernel.accessAllowed ? 'block' : 'none';\n",
              "\n",
              "        async function convertToInteractive(key) {\n",
              "          const element = document.querySelector('#df-9584e0f8-bd41-47b9-bce0-a344f72e5171');\n",
              "          const dataTable =\n",
              "            await google.colab.kernel.invokeFunction('convertToInteractive',\n",
              "                                                     [key], {});\n",
              "          if (!dataTable) return;\n",
              "\n",
              "          const docLinkHtml = 'Like what you see? Visit the ' +\n",
              "            '<a target=\"_blank\" href=https://colab.research.google.com/notebooks/data_table.ipynb>data table notebook</a>'\n",
              "            + ' to learn more about interactive tables.';\n",
              "          element.innerHTML = '';\n",
              "          dataTable['output_type'] = 'display_data';\n",
              "          await google.colab.output.renderOutput(dataTable, element);\n",
              "          const docLink = document.createElement('div');\n",
              "          docLink.innerHTML = docLinkHtml;\n",
              "          element.appendChild(docLink);\n",
              "        }\n",
              "      </script>\n",
              "    </div>\n",
              "  </div>\n",
              "  "
            ]
          },
          "metadata": {},
          "execution_count": 19
        }
      ]
    },
    {
      "cell_type": "markdown",
      "source": [
        "#################################################\n",
        "# GÖREV 2 ADIM 3\n",
        "* todo: arl_recommender fonksiyonunu kullanarak en son 2_0 hizmetini alan bir kullanıcıya hizmet önerisinde bulununuz.\n",
        "\n",
        "#################################################"
      ],
      "metadata": {
        "id": "MRNF6vaQRzjF"
      }
    },
    {
      "cell_type": "code",
      "source": [
        "def arl_recomender(df,product_id,rec_lim=1):\n",
        "    recomendation_list = []\n",
        "    product_id = product_id\n",
        "    for index,antecedent in enumerate(rules[\"antecedents\"]):\n",
        "         for i in list(antecedent):\n",
        "            if i == product_id:\n",
        "                recomendation_list.append(list(rules.iloc[index][\"consequents\"])[0])\n",
        "    return  recomendation_list[:rec_lim]\n"
      ],
      "metadata": {
        "id": "QLgZ-jKFRy8I"
      },
      "execution_count": 20,
      "outputs": []
    },
    {
      "cell_type": "code",
      "source": [
        "arl_recomender(rules,\"15_1\")"
      ],
      "metadata": {
        "colab": {
          "base_uri": "https://localhost:8080/"
        },
        "id": "DNICXmR8SPPl",
        "outputId": "0f2a49f3-10b5-4136-fab6-de5ebd95882d"
      },
      "execution_count": 21,
      "outputs": [
        {
          "output_type": "execute_result",
          "data": {
            "text/plain": [
              "['33_4']"
            ]
          },
          "metadata": {},
          "execution_count": 21
        }
      ]
    }
  ]
}