{
  "nbformat": 4,
  "nbformat_minor": 0,
  "metadata": {
    "colab": {
      "provenance": [],
      "toc_visible": true,
      "authorship_tag": "ABX9TyOygvhzj2GVR4L8RbKxJlgK",
      "include_colab_link": true
    },
    "kernelspec": {
      "name": "python3",
      "display_name": "Python 3"
    },
    "language_info": {
      "name": "python"
    }
  },
  "cells": [
    {
      "cell_type": "markdown",
      "metadata": {
        "id": "view-in-github",
        "colab_type": "text"
      },
      "source": [
        "<a href=\"https://colab.research.google.com/github/abdulkadirdemirci/AssociationRuleLearning_case_1/blob/master/case_2.ipynb\" target=\"_parent\"><img src=\"https://colab.research.google.com/assets/colab-badge.svg\" alt=\"Open In Colab\"/></a>"
      ]
    },
    {
      "cell_type": "markdown",
      "source": [
        "# iş problemi\n",
        "\n",
        "ID'si verilen kullanıcı için item-based ve user-based recommender\n",
        "yöntemlerini kullanarak 10 film önerisi yapınız.\n"
      ],
      "metadata": {
        "id": "4vfYxhxaTX_s"
      }
    },
    {
      "cell_type": "markdown",
      "source": [
        "# veri seti hikayesi\n",
        "\n",
        "Veri seti, bir film tavsiye hizmeti olan MovieLens tarafından sağlanmıştır. \n",
        "İçerisinde filmler ile birlikte bu filmlere yapılan derecelendirme puanlarını barındırmaktadır.\n",
        "27.278 filmde 2.000.0263 derecelendirme içermektedir. \n",
        "Bu veri seti ise 17 Ekim 2016 tarihinde oluşturulmuştur.\n",
        "138.493 kullanıcı ve 09 Ocak 1995 ile 31 Mart 2015 tarihleri arasında verileri içermektedir.\n",
        "kullanıcılar rastgele seçilmiştir.\n",
        "Seçilen tüm kullanıcıların en az 20 filme oy verdiği bilgisi mevcuttur."
      ],
      "metadata": {
        "id": "38sNCBJcUDzc"
      }
    },
    {
      "cell_type": "code",
      "execution_count": null,
      "metadata": {
        "id": "U8wE6VQyTBTe"
      },
      "outputs": [],
      "source": [
        "import sys\n",
        "import os\n",
        "import math\n",
        "import pandas as pd\n",
        "import numpy as np\n",
        "pd.set_option(\"display.expand_frame_repr\",False)\n",
        "pd.set_option(\"display.max_columns\",500)\n",
        "pd.set_option(\"display.max_rows\",500)\n",
        "import warnings\n",
        "warnings.filterwarnings(\"ignore\")"
      ]
    },
    {
      "cell_type": "markdown",
      "source": [
        "######################################\n",
        "#  USER BASED RECOMENDATION\n",
        "######################################"
      ],
      "metadata": {
        "id": "rmYd_vOfUO25"
      }
    },
    {
      "cell_type": "markdown",
      "source": [
        "# GÖREV 1 ADIM 1:\n",
        "* TODO: movie, rating veri setlerini okutunuz.\n"
      ],
      "metadata": {
        "id": "_e2_s-PzUv-N"
      }
    },
    {
      "cell_type": "code",
      "source": [
        "movie_ = pd.read_csv(\"datasets/movie.csv\")\n",
        "movie = movie_.copy()\n",
        "\n",
        "rating_ = pd.read_csv(\"datasets/rating.csv\")\n",
        "rating = rating_.copy()"
      ],
      "metadata": {
        "id": "L0rttDuXU3-G"
      },
      "execution_count": null,
      "outputs": []
    },
    {
      "cell_type": "code",
      "source": [
        "movie.shape\n",
        "movie.isnull().sum()\n",
        "movie.info()"
      ],
      "metadata": {
        "id": "-rDE_2iGVBrN"
      },
      "execution_count": null,
      "outputs": []
    },
    {
      "cell_type": "code",
      "source": [
        "rating.shape\n",
        "rating.isnull().sum()\n",
        "rating.info()"
      ],
      "metadata": {
        "id": "-8H7tO_NVEkx"
      },
      "execution_count": null,
      "outputs": []
    },
    {
      "cell_type": "markdown",
      "source": [
        "## boyutu yarıya indirmek "
      ],
      "metadata": {
        "id": "9zCSdC0hVQDS"
      }
    },
    {
      "cell_type": "markdown",
      "source": [
        "## rating\n",
        "* zaman bilgisi bize lazım olamayacak\n"
      ],
      "metadata": {
        "id": "ilHETBSGVSDy"
      }
    },
    {
      "cell_type": "code",
      "source": [
        "rating = rating[[\"userId\",\"movieId\",\"rating\"]]\n",
        "rating_matrix = rating.astype(np.float32)"
      ],
      "metadata": {
        "id": "NfwTRs5TVEbs"
      },
      "execution_count": null,
      "outputs": []
    },
    {
      "cell_type": "markdown",
      "source": [
        "## movie\n",
        "* title ları ayrı bir yere aktar , genres zaten lazım olmayacak "
      ],
      "metadata": {
        "id": "X2h9TK_RVcjv"
      }
    },
    {
      "cell_type": "code",
      "source": [
        "movie_title = movie[[\"title\",\"movieId\"]]\n",
        "movie = movie[[\"movieId\"]]\n",
        "movie_matrix = movie.astype(np.float32)"
      ],
      "metadata": {
        "id": "riX7vx2qVsHX"
      },
      "execution_count": null,
      "outputs": []
    },
    {
      "cell_type": "markdown",
      "source": [
        "######################\n",
        "# GÖREV 1 ADIM 2:\n",
        "* TODO: rating veri setine Id’lere ait film isimlerini ve türünü movie veri setinden ekleyiniz.\n",
        "\n",
        "######################"
      ],
      "metadata": {
        "id": "wdRz7y_fUtGQ"
      }
    },
    {
      "cell_type": "code",
      "source": [
        "df = movie.merge(rating, how=\"left\", on=\"movieId\")\n",
        "df.nunique()"
      ],
      "metadata": {
        "id": "mDGWtFRYV3em"
      },
      "execution_count": null,
      "outputs": []
    },
    {
      "cell_type": "markdown",
      "source": [
        "######################\n",
        "# GÖREV 1 ADIM 3:\n",
        "* TODO: Toplam oy kullanılma sayısı 1000'in altında olan filmlerin isimlerini listede tutunuz ve veri setinden çıkartınız.\n",
        "\n",
        "######################\n"
      ],
      "metadata": {
        "id": "WhR2pR-hV6iT"
      }
    },
    {
      "cell_type": "code",
      "source": [
        "comment_count = rating_matrix.groupby(\"movieId\").agg({\"movieId\":\"count\"})\n",
        "comment_count.rename(columns={\"movieId\":\"count\"},inplace=True)\n",
        "comment_count = comment_count.reset_index()"
      ],
      "metadata": {
        "id": "8a_tm_lNV99e"
      },
      "execution_count": null,
      "outputs": []
    },
    {
      "cell_type": "markdown",
      "source": [
        "## nadir filmler"
      ],
      "metadata": {
        "id": "V0vntZxjWOAa"
      }
    },
    {
      "cell_type": "code",
      "source": [
        "rare_movies = comment_count[comment_count[\"count\"]< 1000][\"movieId\"]"
      ],
      "metadata": {
        "id": "eTOtabKmWBL1"
      },
      "execution_count": null,
      "outputs": []
    },
    {
      "cell_type": "markdown",
      "source": [
        "## yaygın filmler"
      ],
      "metadata": {
        "id": "ecHcKFAUWP_X"
      }
    },
    {
      "cell_type": "code",
      "source": [
        "common_movies = rating_matrix[~rating_matrix[\"movieId\"].isin(rare_movies)]"
      ],
      "metadata": {
        "id": "4Xb-le2fWE_c"
      },
      "execution_count": null,
      "outputs": []
    },
    {
      "cell_type": "code",
      "source": [
        "rating_matrix.nunique()\n",
        "len(rare_movies)\n",
        "common_movies.nunique()"
      ],
      "metadata": {
        "id": "u9Wtpz5uWHg5"
      },
      "execution_count": null,
      "outputs": []
    },
    {
      "cell_type": "markdown",
      "source": [
        "######################\n",
        "# GÖREV 1 ADIM 4:\n",
        "* TODO: index'te userID'lerin sutunlarda film isimlerinin ve değer olarak ratinglerin bulunduğu dataframe için pivot table oluşturunuz\n",
        "\n",
        "######################"
      ],
      "metadata": {
        "id": "m9ND0bC9Wgzt"
      }
    },
    {
      "cell_type": "code",
      "source": [
        "common_movies_matrix = common_movies.astype(np.float32)"
      ],
      "metadata": {
        "id": "LQDRqlOKWLJa"
      },
      "execution_count": null,
      "outputs": []
    },
    {
      "cell_type": "code",
      "source": [
        "user_movie_df = common_movies_matrix.pivot_table(index=\"userId\" , columns=\"movieId\", values=\"rating\")\n"
      ],
      "metadata": {
        "id": "vml457YBWpUX"
      },
      "execution_count": null,
      "outputs": []
    },
    {
      "cell_type": "markdown",
      "source": [
        "#  Öneri Yapılacak Kullanıcının İzlediği Filmlerin Belirlenmesi \n"
      ],
      "metadata": {
        "id": "u4coS_73WtO6"
      }
    },
    {
      "cell_type": "markdown",
      "source": [
        "######################\n",
        "# GÖREV 2 ADIM 1:\n",
        "* TODO: Rastgele bir kullanıcı id’si seçiniz..\n",
        "######################"
      ],
      "metadata": {
        "id": "X5BTk4uEW2Md"
      }
    },
    {
      "cell_type": "code",
      "source": [
        "random_user = user_movie_df.sample(1).index.values[0]"
      ],
      "metadata": {
        "id": "lbOvqap1W12T"
      },
      "execution_count": null,
      "outputs": []
    },
    {
      "cell_type": "markdown",
      "source": [
        "######################\n",
        "# GÖREV 2 ADIM 2:\n",
        "* TODO: Seçilen kullanıcıya ait gözlem birimleriminden oluşan random_user_df adında yeni bir dataframe oluşturunuZ.\n",
        "\n",
        "######################"
      ],
      "metadata": {
        "id": "sxJ0pM3XW8V_"
      }
    },
    {
      "cell_type": "markdown",
      "source": [
        "userid ler indexlerde yer alıyor ve indexin adı userId"
      ],
      "metadata": {
        "id": "gItGsJFaXFw4"
      }
    },
    {
      "cell_type": "code",
      "source": [
        "user_movie_df.index\n",
        "random_user_df = user_movie_df[user_movie_df.index == random_user]"
      ],
      "metadata": {
        "id": "RFNGyqT3XAtX"
      },
      "execution_count": null,
      "outputs": []
    },
    {
      "cell_type": "markdown",
      "source": [
        "######################\n",
        "# GÖREV 2 ADIM 3:\n",
        "* TODO: Seçilen kullanıcıların oy kullandığı filmleri movies_watched adında bir listeye atayınız\n",
        "\n",
        "######################"
      ],
      "metadata": {
        "id": "LRtIhEtrXMHv"
      }
    },
    {
      "cell_type": "code",
      "source": [
        "movies_watched = random_user_df.columns[random_user_df.notna().any()].tolist()\n",
        "movies_not_watched = random_user_df.columns[random_user_df.isna().any()].tolist()"
      ],
      "metadata": {
        "id": "di9wCO-9Xoqj"
      },
      "execution_count": null,
      "outputs": []
    },
    {
      "cell_type": "markdown",
      "source": [
        "Aynı Filmleri İzleyen Diğer Kullanıcıların Verisine ve Id'lerine Erişilmesi\n"
      ],
      "metadata": {
        "id": "uLtL_jC4Xp79"
      }
    },
    {
      "cell_type": "markdown",
      "source": [
        "######################\n",
        "# GÖREV 3 ADIM 1:\n",
        "* TODO: Seçilen kullanıcının izlediği fimlere ait sutunları user_movie_df'ten seçiniz ve movies_watched_df adında yeni bir dataframe oluşturunuz.\n",
        "\n",
        "######################\n",
        "\n",
        "satırlarda tüm kullanıcılar sutunlarda ise sadece secilmiş kullanıcıın izledigi tüm filmler"
      ],
      "metadata": {
        "id": "ZYLptn9EXxBt"
      }
    },
    {
      "cell_type": "code",
      "source": [
        "movies_watched_df = user_movie_df[movies_watched]\n",
        "movies_watched_df.shape"
      ],
      "metadata": {
        "id": "5YgrZCTsXwEF"
      },
      "execution_count": null,
      "outputs": []
    },
    {
      "cell_type": "markdown",
      "source": [
        "######################\n",
        "# GÖREV 3 ADIM 2:\n",
        "* TODO: Her bir kullancının seçili user'in izlediği filmlerin kaçını izlediğini bilgisini taşıyan user_movie_count adında yeni bir dataframe oluşturunuz\n",
        "\n",
        "######################"
      ],
      "metadata": {
        "id": "RrRl3V4YYDp-"
      }
    },
    {
      "cell_type": "code",
      "source": [
        "user_movie_count = movies_watched_df.notnull().sum(axis=1)"
      ],
      "metadata": {
        "id": "U1hvvCs_YLXH"
      },
      "execution_count": null,
      "outputs": []
    },
    {
      "cell_type": "code",
      "source": [
        "user_movie_count = user_movie_count.reset_index()\n",
        "\n",
        "user_movie_count.columns = [\"userId\", \"movie_count\"]"
      ],
      "metadata": {
        "id": "-CojOhROYWOs"
      },
      "execution_count": null,
      "outputs": []
    },
    {
      "cell_type": "markdown",
      "source": [
        "######################\n",
        "# GÖREV 3 ADIM 3:\n",
        "* TODO: Seçilen kullanıcının oy verdiği filmlerin yüzde 60 ve üstünü izleyenlerin kullanıcı id’lerinden users_same_movies adında bir liste oluşturunuz\n",
        "\n",
        "######################"
      ],
      "metadata": {
        "id": "4jWeY8aCYXsX"
      }
    },
    {
      "cell_type": "code",
      "source": [
        "def perc_to_num(perc):\n",
        "    return (perc*len(movies_watched))/100\n"
      ],
      "metadata": {
        "id": "gGRtudhuYecR"
      },
      "execution_count": null,
      "outputs": []
    },
    {
      "cell_type": "code",
      "source": [
        "perc_to_num(60)"
      ],
      "metadata": {
        "id": "8Hxu7zGSYgpv"
      },
      "execution_count": null,
      "outputs": []
    },
    {
      "cell_type": "code",
      "source": [
        "users_same_movies = user_movie_count[user_movie_count[\"movie_count\"] > perc_to_num(60)]"
      ],
      "metadata": {
        "id": "AEGGtXbSYgnU"
      },
      "execution_count": null,
      "outputs": []
    },
    {
      "cell_type": "markdown",
      "source": [
        "Öneri Yapılacak Kullanıcı ile En Benzer Kullanıcıların Belirlenmesi "
      ],
      "metadata": {
        "id": "0EHVBqTpYpdh"
      }
    },
    {
      "cell_type": "markdown",
      "source": [
        "######################\n",
        "# GÖREV 4 ADIM 1:\n",
        "* TODO: user_same_movies listesi içerisindeki seçili user ile benzerlik gösteren kullanıcıların id’lerinin bulunacağı şekilde movies_watched_df dataframe’ini filtreleyiniz.\n",
        "\n",
        "######################"
      ],
      "metadata": {
        "id": "3pqJwrOGYt8-"
      }
    },
    {
      "cell_type": "markdown",
      "source": [
        "movies_watched_df de secili userımın izlediği tüm filmler ve tüüm kullanıcılar var.\n",
        "şimdi ise sadece en az 123 tanesini izlemiş olan kullanıcıları bırakıcam movies_watched_df de\n",
        "zaten elimizde en az 123 tanesini izleyenlerin listesi var \n",
        "(users_same_movies) burada en az 123 ortak film izleyenlerin userıd si var"
      ],
      "metadata": {
        "id": "MO8q15ZSY088"
      }
    },
    {
      "cell_type": "code",
      "source": [
        "len(users_same_movies)\n",
        "users_same_movies[\"userId\"].values\n",
        "movies_watched_df = movies_watched_df.iloc[movies_watched_df.index.isin(users_same_movies[\"userId\"].values), :]"
      ],
      "metadata": {
        "id": "UvDgQQUfYgkT"
      },
      "execution_count": null,
      "outputs": []
    },
    {
      "cell_type": "markdown",
      "source": [
        "######################\n",
        "# GÖREV 4 ADIM 2:\n",
        "* TODO: Kullanıcıların birbirleri ile olan korelasyonlarının bulunacağı yeni bir corr_df dataframe’i oluşturunuz.\n",
        "\n",
        "######################"
      ],
      "metadata": {
        "id": "mlmgj0asY6Zb"
      }
    },
    {
      "cell_type": "code",
      "source": [
        "corr_df = movies_watched_df.T.corr()"
      ],
      "metadata": {
        "id": "ZMDUjVutY-Rj"
      },
      "execution_count": null,
      "outputs": []
    },
    {
      "cell_type": "markdown",
      "source": [
        "######################\n",
        "# GÖREV 4 ADIM 3:\n",
        "* TODO:  Seçili kullanıcı ile yüksek korelasyona sahip (0.65’in üzerinde olan) kullanıcıları filtreleyerek top_users adında yeni bir dataframe oluşturunuz.\n",
        "\n",
        "######################"
      ],
      "metadata": {
        "id": "PAUXvdp0ZB_S"
      }
    },
    {
      "cell_type": "code",
      "source": [
        "top_users = corr_df.unstack().sort_values(ascending=False).drop_duplicates()\n",
        "type(top_users)\n",
        "\n",
        "top_users_df = pd.DataFrame(top_users, columns=[\"corr_val\"])\n",
        "top_users_df.index.names = [\"user_1\",\"user_2\"]\n",
        "top_users_df.reset_index(inplace=True)"
      ],
      "metadata": {
        "id": "tDetB6ZEZHeC"
      },
      "execution_count": null,
      "outputs": []
    },
    {
      "cell_type": "code",
      "source": [
        "random_user\n",
        "\n",
        "top_users_df = top_users_df.loc[(top_users_df[\"user_1\"] == random_user) & (top_users_df[\"corr_val\"]>.45),[\"user_2\",\"corr_val\"] ]\n"
      ],
      "metadata": {
        "id": "HxAV-KG-ZKY2"
      },
      "execution_count": null,
      "outputs": []
    },
    {
      "cell_type": "markdown",
      "source": [
        "######################\n",
        "# GÖREV 4 ADIM 4:\n",
        "* TODO: top_users dataframe’ine rating veri seti ile merge ediniz.\n",
        "\n",
        "######################\n",
        "\n",
        "top_user_df deki user_2 yi userId olarak degiştir ki rating verisi ile inner merge edebil."
      ],
      "metadata": {
        "id": "VPWdxpjlZKMc"
      }
    },
    {
      "cell_type": "code",
      "source": [
        "rating_matrix\n",
        "top_users_df"
      ],
      "metadata": {
        "id": "K0NzCyLbZUtZ"
      },
      "execution_count": null,
      "outputs": []
    },
    {
      "cell_type": "code",
      "source": [
        "top_users_df.rename(columns={\"user_2\":\"userId\"}, inplace =True)\n",
        "top_users_rating = top_users_df.merge(rating_matrix[[\"userId\", \"movieId\", \"rating\"]], how='inner')"
      ],
      "metadata": {
        "id": "hznZjzk5ZX8u"
      },
      "execution_count": null,
      "outputs": []
    },
    {
      "cell_type": "markdown",
      "source": [
        "Weighted Average Recommendation Score'un Hesaplanması ve İlk 5 Filmin Tutulması "
      ],
      "metadata": {
        "id": "Bo7E3SbHZZ-3"
      }
    },
    {
      "cell_type": "markdown",
      "source": [
        "######################\n",
        "# GÖREV 5 ADIM 1:\n",
        "* TODO: Her bir kullanıcının corr ve rating değerlerinin çarpımından oluşan  weighted_rating adında yeni bir değişken oluşturunuz.\n",
        "\n",
        "######################"
      ],
      "metadata": {
        "id": "5cUsjtkgZapR"
      }
    },
    {
      "cell_type": "code",
      "source": [
        "top_users_rating.head()\n",
        "top_users_rating[\"weighted_rating\"] = top_users_rating[\"corr_val\"] *top_users_rating[\"rating\"]"
      ],
      "metadata": {
        "id": "cFpaefKdZhsv"
      },
      "execution_count": null,
      "outputs": []
    },
    {
      "cell_type": "markdown",
      "source": [
        "######################\n",
        "# GÖREV 5 ADIM 2:\n",
        "* TODO: Film id’si ve her bir filme ait tüm kullanıcıların weighted rating’lerinin ortalama değerini içeren recommendation_df adında yeni bir dataframe oluşturunuz\n",
        "\n",
        "######################"
      ],
      "metadata": {
        "id": "sqn6d46NbIeC"
      }
    },
    {
      "cell_type": "code",
      "source": [
        "recommendation_df = top_users_rating.groupby([\"movieId\",\"userId\"]).agg({\"weighted_rating\":\"mean\"}).reset_index()\n",
        "recommendation_df.weighted_rating.max()"
      ],
      "metadata": {
        "id": "iFZiTup6bMgf"
      },
      "execution_count": null,
      "outputs": []
    },
    {
      "cell_type": "markdown",
      "source": [
        "######################\n",
        "# GÖREV 5 ADIM 3:\n",
        "* TODO:  recommendation_df içerisinde weighted rating'i 2.5'ten büyük olan filmleri seçiniz ve weighted rating’e göre sıralayınız.\n",
        "\n",
        "######################"
      ],
      "metadata": {
        "id": "kPkLvE-CbPc6"
      }
    },
    {
      "cell_type": "code",
      "source": [
        "recommendation_df.head()\n",
        "recommendation_df = recommendation_df[recommendation_df[\"weighted_rating\"]>2.5].sort_values(by=\"weighted_rating\",ascending=False)\n"
      ],
      "metadata": {
        "id": "4yqaljPTbT9y"
      },
      "execution_count": null,
      "outputs": []
    },
    {
      "cell_type": "markdown",
      "source": [
        "######################\n",
        "# GÖREV 5 ADIM 4:\n",
        "* TODO:  movie veri setinden film isimlerini getiriniz ve tavsiye edilecek ilk 5 filmi seçiniz.\n",
        "\n",
        "######################"
      ],
      "metadata": {
        "id": "fx-nuFnubWAt"
      }
    },
    {
      "cell_type": "code",
      "source": [
        "def get_movie_name(recommendation_df,num_of_rec):\n",
        "    mov_id_list = recommendation_df.movieId.head(6).values\n",
        "    return movie_title[movie_title[\"movieId\"].isin(mov_id_list)][\"title\"]"
      ],
      "metadata": {
        "id": "C-b9820XbZ3M"
      },
      "execution_count": null,
      "outputs": []
    },
    {
      "cell_type": "code",
      "source": [
        "get_movie_name(recommendation_df,6)"
      ],
      "metadata": {
        "id": "G3Dg0edxbawm"
      },
      "execution_count": null,
      "outputs": []
    },
    {
      "cell_type": "markdown",
      "source": [
        "# ITEM BASED RECOMENDATION"
      ],
      "metadata": {
        "id": "2LTRcYE5beRi"
      }
    },
    {
      "cell_type": "markdown",
      "source": [
        "##  Kullanıcının izlediği en son ve en yüksek puan verdiği filme göre item-based öneri yapınız."
      ],
      "metadata": {
        "id": "fNGdCkUzbnox"
      }
    },
    {
      "cell_type": "markdown",
      "source": [
        "######################\n",
        "# GÖREV 1 ADIM 2:\n",
        "* TODO: Seçili kullanıcının 5 puan verdiği filmlerden puanı en güncel olan filmin id'sinin alınız.\n",
        "\n",
        "######################"
      ],
      "metadata": {
        "id": "s7woc0eobptd"
      }
    },
    {
      "cell_type": "code",
      "source": [
        "random_user\n",
        "\n",
        "rating.head()\n",
        "\n",
        "random_filtered_df = rating[(rating[\"userId\"]==random_user) & (rating[\"rating\"]==5)]\n",
        "\n",
        "random_filtered_df[random_filtered_df[\"timestamp\"]==random_filtered_df[\"timestamp\"].max()][\"movieId\"].values\n",
        "\n",
        "best_latest_movie = random_filtered_df[random_filtered_df[\"timestamp\"]==random_filtered_df[\"timestamp\"].max()][\"movieId\"].values\n"
      ],
      "metadata": {
        "id": "boawbjRNb-jn"
      },
      "execution_count": null,
      "outputs": []
    },
    {
      "cell_type": "markdown",
      "source": [
        "######################\n",
        "# GÖREV 1 ADIM 3:\n",
        "* TODO: User based recommendation bölümünde oluşturulan user_movie_df dataframe’ini seçilen film id’sine göre filtreleyiniz.\n",
        "\n",
        "######################"
      ],
      "metadata": {
        "id": "1RiZw16XcIIk"
      }
    },
    {
      "cell_type": "code",
      "source": [
        "user_movie_df\n",
        "\n",
        "user_movie_random_filtered_df = user_movie_df[best_latest_movie]\n",
        "type(user_movie_random_filtered_df)\n",
        "user_movie_random_filtered_df.columns\n",
        "user_movie_random_filtered_df.index"
      ],
      "metadata": {
        "id": "mFNk1yeecl7f"
      },
      "execution_count": null,
      "outputs": []
    },
    {
      "cell_type": "markdown",
      "source": [
        "######################\n",
        "# GÖREV 1 ADIM 4:\n",
        "* TODO: Filtrelenen dataframe’i kullanarak seçili filmle diğer filmlerin korelasyonunu bulunuz ve sıralayınız\n",
        "\n",
        "######################"
      ],
      "metadata": {
        "id": "GzgMvcaScppa"
      }
    },
    {
      "cell_type": "code",
      "source": [
        "type(user_movie_df)\n",
        "type(user_movie_random_filtered_df)\n",
        "\n",
        "user_movie_random_filtered_df.columns\n",
        "user_movie_df.columns\n",
        "\n",
        "user_movie_random_filtered_df.reset_index(inplace=True)\n",
        "user_movie_random_filtered_df.columns= [\"userid\",\"film\"]"
      ],
      "metadata": {
        "id": "pih2Z1occtlM"
      },
      "execution_count": null,
      "outputs": []
    },
    {
      "cell_type": "markdown",
      "source": [
        "953-205 olan veri setinde puan dagılımı korelasyonu arıyorumm bu yüzden user_movie_random_filtered içinden sadece 953 kişiyi filtrelemem gerek bu sayede hybrid sistemi oluşturabiliyim"
      ],
      "metadata": {
        "id": "YH6sRXg5cxZ7"
      }
    },
    {
      "cell_type": "code",
      "source": [
        "user_movie_random_double_filtered_df = user_movie_random_filtered_df.\\\n",
        "                                           loc[user_movie_random_filtered_df[\"userid\"].isin(users_same_movies[\"userId\"].values),:]"
      ],
      "metadata": {
        "id": "D0OvmsiRc1y2"
      },
      "execution_count": null,
      "outputs": []
    },
    {
      "cell_type": "markdown",
      "source": [
        "953-205 lik ile 953-1 lik film ve userid bilgilerini içeren versi setleri kullanıyorum"
      ],
      "metadata": {
        "id": "HxN5yFASc6Fn"
      }
    },
    {
      "cell_type": "code",
      "source": [
        "corr_df = movies_watched_df.corrwith(user_movie_random_double_filtered_df[\"film\"]).sort_values(ascending=False)\n",
        "corr_df.shape"
      ],
      "metadata": {
        "id": "bKGmBTUyc5uF"
      },
      "execution_count": null,
      "outputs": []
    },
    {
      "cell_type": "markdown",
      "source": [
        "nan degerli filmleri ele"
      ],
      "metadata": {
        "id": "bgErH9uyc96U"
      }
    },
    {
      "cell_type": "code",
      "source": [
        "corr_df = corr_df[corr_df.notnull()]\n",
        "corr_df.shape"
      ],
      "metadata": {
        "id": "yPoVPndddANb"
      },
      "execution_count": null,
      "outputs": []
    },
    {
      "cell_type": "markdown",
      "source": [
        "######################\n",
        "# GÖREV 1 ADIM 5:\n",
        "* TODO: Seçili film’in kendisi haricinde ilk 5 film’I öneri olarak veriniz.\n",
        "\n",
        "######################"
      ],
      "metadata": {
        "id": "JvgYxa5edDb-"
      }
    },
    {
      "cell_type": "code",
      "source": [
        "corr_df.index\n",
        "def get_movie_name(corr_df,num_of_rec):\n",
        "    mov_id_list = corr_df.index[:num_of_rec].values\n",
        "    return movie_title[movie_title[\"movieId\"].isin(mov_id_list)][\"title\"]\n",
        "\n",
        "get_movie_name(corr_df,6)"
      ],
      "metadata": {
        "id": "PmRwasSGdIRz"
      },
      "execution_count": null,
      "outputs": []
    }
  ]
}